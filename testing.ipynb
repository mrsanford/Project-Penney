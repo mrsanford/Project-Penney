{
 "cells": [
  {
   "cell_type": "code",
   "execution_count": 1,
   "id": "596341ab-3af1-446f-861e-b2a146fa3a14",
   "metadata": {},
   "outputs": [],
   "source": [
    "import numpy as np\n",
    "from src.helpers import ALL_COMBOS\n",
    "from src.helpers import TO_LOAD_DIR\n",
    "from src.datagen import get_decks, store_decks\n",
    "from src.processing import (\n",
    "    load_decks,\n",
    "    count_cards,\n",
    "    find_tricks,\n",
    "    simulate_combos,\n",
    ")\n",
    "from src.scoring import score_summarize\n",
    "from src.visualization import plot_heatmaps"
   ]
  },
  {
   "cell_type": "code",
   "execution_count": 2,
   "id": "84408e2f-e437-4b1b-92ef-b3c1c80c910b",
   "metadata": {},
   "outputs": [],
   "source": [
    "# default testing\n",
    "def main():\n",
    "    # deck shuffling, seed generation, and storage\n",
    "    decks, seeds = get_decks(n_decks=100, seed=42)\n",
    "    store_decks(decks, seeds, directory=TO_LOAD_DIR, append_file=True)\n",
    "    # loading data and simulating\n",
    "    loaded_decks = load_decks()\n",
    "    # running trick and card simulations\n",
    "    sample_deck = loaded_decks[0]\n",
    "    P1_combo = ALL_COMBOS[0]\n",
    "    P2_combo = ALL_COMBOS[1]\n",
    "    P1_tricks, P2_tricks = find_tricks(sample_deck, P1_combo, P2_combo)\n",
    "    P1_cards, P2_cards = count_cards(sample_deck, P1_combo, P2_combo)\n",
    "    results = simulate_combos(\n",
    "        decks=sample_deck, ALL_COMBOS=ALL_COMBOS, P2_combos=ALL_COMBOS\n",
    "    )\n",
    "    # scoring the results\n",
    "    score = score_summarize(results)\n",
    "    # visualization\n",
    "    p2_trick_pct = np.random.rand(len(ALL_COMBOS), len(ALL_COMBOS)) * 100\n",
    "    p2_card_pct = np.random.rand(len(ALL_COMBOS), len(ALL_COMBOS)) * 100\n",
    "    plot_heatmaps(p2_card_pct, p2_trick_pct)"
   ]
  },
  {
   "cell_type": "code",
   "execution_count": 3,
   "id": "fea54fdd-fd9b-4707-8789-7bc9d75e951f",
   "metadata": {},
   "outputs": [
    {
     "name": "stdout",
     "output_type": "stream",
     "text": [
      "Stored first deck file: data/to_load/shuffled_decks_1.npz\n"
     ]
    },
    {
     "ename": "FileNotFoundError",
     "evalue": "No shuffled decks found.",
     "output_type": "error",
     "traceback": [
      "\u001b[31m---------------------------------------------------------------------------\u001b[39m",
      "\u001b[31mFileNotFoundError\u001b[39m                         Traceback (most recent call last)",
      "\u001b[36mCell\u001b[39m\u001b[36m \u001b[39m\u001b[32mIn[3]\u001b[39m\u001b[32m, line 2\u001b[39m\n\u001b[32m      1\u001b[39m \u001b[38;5;28;01mif\u001b[39;00m \u001b[34m__name__\u001b[39m == \u001b[33m\"\u001b[39m\u001b[33m__main__\u001b[39m\u001b[33m\"\u001b[39m:\n\u001b[32m----> \u001b[39m\u001b[32m2\u001b[39m     \u001b[43mmain\u001b[49m\u001b[43m(\u001b[49m\u001b[43m)\u001b[49m\n",
      "\u001b[36mCell\u001b[39m\u001b[36m \u001b[39m\u001b[32mIn[2]\u001b[39m\u001b[32m, line 7\u001b[39m, in \u001b[36mmain\u001b[39m\u001b[34m()\u001b[39m\n\u001b[32m      5\u001b[39m store_decks(decks, seeds, directory=TO_LOAD_DIR, append_file=\u001b[38;5;28;01mTrue\u001b[39;00m)\n\u001b[32m      6\u001b[39m \u001b[38;5;66;03m# loading data and simulating\u001b[39;00m\n\u001b[32m----> \u001b[39m\u001b[32m7\u001b[39m loaded_decks = \u001b[43mload_decks\u001b[49m\u001b[43m(\u001b[49m\u001b[43m)\u001b[49m\n\u001b[32m      8\u001b[39m \u001b[38;5;66;03m# running trick and card simulations\u001b[39;00m\n\u001b[32m      9\u001b[39m sample_deck = loaded_decks[\u001b[32m0\u001b[39m]\n",
      "\u001b[36mFile \u001b[39m\u001b[32m~/Documents/GitHub/Project-Penney/src/processing.py:20\u001b[39m, in \u001b[36mload_decks\u001b[39m\u001b[34m()\u001b[39m\n\u001b[32m     18\u001b[39m latest_file = latest_deck_file(TO_LOAD_DIR)\n\u001b[32m     19\u001b[39m \u001b[38;5;28;01mif\u001b[39;00m latest_file \u001b[38;5;129;01mis\u001b[39;00m \u001b[38;5;28;01mNone\u001b[39;00m:\n\u001b[32m---> \u001b[39m\u001b[32m20\u001b[39m     \u001b[38;5;28;01mraise\u001b[39;00m \u001b[38;5;167;01mFileNotFoundError\u001b[39;00m(\u001b[33m\"\u001b[39m\u001b[33mNo shuffled decks found.\u001b[39m\u001b[33m\"\u001b[39m)\n\u001b[32m     21\u001b[39m data = np.load(latest_file)\n\u001b[32m     22\u001b[39m decks = data[\u001b[33m\"\u001b[39m\u001b[33mdecks\u001b[39m\u001b[33m\"\u001b[39m]\n",
      "\u001b[31mFileNotFoundError\u001b[39m: No shuffled decks found."
     ]
    }
   ],
   "source": [
    "if __name__ == \"__main__\":\n",
    "    main()"
   ]
  },
  {
   "cell_type": "code",
   "execution_count": null,
   "id": "86ffc241-0621-4515-8155-3fecebb2a0f6",
   "metadata": {},
   "outputs": [],
   "source": []
  }
 ],
 "metadata": {
  "kernelspec": {
   "display_name": "Python 3 (ipykernel)",
   "language": "python",
   "name": "python3"
  },
  "language_info": {
   "codemirror_mode": {
    "name": "ipython",
    "version": 3
   },
   "file_extension": ".py",
   "mimetype": "text/x-python",
   "name": "python",
   "nbconvert_exporter": "python",
   "pygments_lexer": "ipython3",
   "version": "3.12.8"
  }
 },
 "nbformat": 4,
 "nbformat_minor": 5
}
